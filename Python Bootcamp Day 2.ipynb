{
 "cells": [
  {
   "cell_type": "markdown",
   "metadata": {},
   "source": [
    "### String concatenation"
   ]
  },
  {
   "cell_type": "markdown",
   "metadata": {},
   "source": [
    "String concatenation means adding two strings together. '+' operator is used to concatenate two strings which results to form a new string"
   ]
  },
  {
   "cell_type": "code",
   "execution_count": 1,
   "metadata": {},
   "outputs": [
    {
     "name": "stdout",
     "output_type": "stream",
     "text": [
      "Hi, I'm learning Python\n"
     ]
    }
   ],
   "source": [
    "# adding two varible strings str1 and str2, and assigning the concatenated string to varaible conc_str\n",
    "str1=\"Hi, I'm learning \"\n",
    "str2=\"Python\"\n",
    "conc_str=str1+str2\n",
    "print(conc_str)"
   ]
  },
  {
   "cell_type": "code",
   "execution_count": 9,
   "metadata": {},
   "outputs": [
    {
     "name": "stdout",
     "output_type": "stream",
     "text": [
      "Python Python Python Python Python Python Python Python Python Python \n"
     ]
    }
   ],
   "source": [
    "# The * operator creates multiple copies of a string.\n",
    "mystring=\"Python \"\n",
    "print(mystring *10)"
   ]
  },
  {
   "cell_type": "markdown",
   "metadata": {},
   "source": [
    "### Split function"
   ]
  },
  {
   "cell_type": "markdown",
   "metadata": {},
   "source": [
    "split function is used to Split a string into a list where each word is a list item.\n",
    "\n",
    "split() takes \" \" (space) as default argument"
   ]
  },
  {
   "cell_type": "code",
   "execution_count": 3,
   "metadata": {},
   "outputs": [
    {
     "name": "stdout",
     "output_type": "stream",
     "text": [
      "['Welcome', 'to', 'Python', 'Bootcamp']\n"
     ]
    }
   ],
   "source": [
    "# Example 1\n",
    "# storing a string in a variable mystring and splitting at element \" \" (space)\n",
    "mystring=\"Welcome to Python Bootcamp\"\n",
    "#storing the list elements in a variable \n",
    "lst=mystring.split()\n",
    "print(lst)"
   ]
  },
  {
   "cell_type": "code",
   "execution_count": 6,
   "metadata": {},
   "outputs": [
    {
     "name": "stdout",
     "output_type": "stream",
     "text": [
      "['1', '2', '3', '22', '4', '48', '2']\n"
     ]
    }
   ],
   "source": [
    "# Example 2\n",
    "# storing a string in a variable mystring and splitting at element \"-\"\n",
    "newstring=\"1-2-3-22-4-48-2\"\n",
    "#storing the list elements in a variable \n",
    "new_lst=newstring.split('-')\n",
    "print(new_lst)"
   ]
  },
  {
   "cell_type": "markdown",
   "metadata": {},
   "source": [
    "### String indexing"
   ]
  },
  {
   "cell_type": "markdown",
   "metadata": {},
   "source": [
    "Often in programming languages, individual items in an ordered set of data can be accessed directly using a numeric index or key value. This process is referred to as indexing.\n",
    "\n",
    "In Python, strings are ordered sequences of character data, and thus can be indexed in this way. Individual characters in a string can be accessed by specifying the string name followed by a number in square brackets ([])."
   ]
  },
  {
   "cell_type": "code",
   "execution_count": 11,
   "metadata": {},
   "outputs": [
    {
     "name": "stdout",
     "output_type": "stream",
     "text": [
      "Element at index 0 is M\n",
      "Element at index 1 is y\n",
      "Element at index 2 is  \n"
     ]
    }
   ],
   "source": [
    "mystr=\"My new string\"\n",
    "print(\"Element at index 0 is\",mystr[0]) # return 'M'\n",
    "print(\"Element at index 1 is\",mystr[1]) # return 'y'\n",
    "print(\"Element at index 2 is\",mystr[2]) # returns ' ' empty space"
   ]
  },
  {
   "cell_type": "code",
   "execution_count": 14,
   "metadata": {},
   "outputs": [
    {
     "name": "stdout",
     "output_type": "stream",
     "text": [
      "Element at last index -1 is g\n"
     ]
    }
   ],
   "source": [
    "# to access the last element of the string, just take stringname[-1]\n",
    "mystr=\"My new string\"\n",
    "print(\"Element at last index -1 is\",mystr[-1]) #returns 'g'"
   ]
  },
  {
   "cell_type": "code",
   "execution_count": 16,
   "metadata": {},
   "outputs": [
    {
     "name": "stdout",
     "output_type": "stream",
     "text": [
      "Element at last index -2 is n\n"
     ]
    }
   ],
   "source": [
    "# to access the last but one element of the string, just take stringname[-2]\n",
    "mystr=\"My new string\"\n",
    "print(\"Element at last index -2 is\",mystr[-2]) #returns \"n\""
   ]
  },
  {
   "cell_type": "markdown",
   "metadata": {},
   "source": [
    "Another way to access the last charecter in a string is by finding the total length of the string\n",
    "index of last element = total length of a string - 1 (as indexing starts from 0)"
   ]
  },
  {
   "cell_type": "code",
   "execution_count": 19,
   "metadata": {},
   "outputs": [
    {
     "name": "stdout",
     "output_type": "stream",
     "text": [
      "Element at last index 12 is g\n"
     ]
    }
   ],
   "source": [
    "mystr=\"My new string\"\n",
    "ind=len(mystr)-1\n",
    "print(f\"Element at last index {ind} is {mystr[ind]}\") #returns \"g\""
   ]
  },
  {
   "cell_type": "markdown",
   "metadata": {},
   "source": [
    "## slicing"
   ]
  },
  {
   "cell_type": "markdown",
   "metadata": {},
   "source": [
    "slicing returns a range of characters by using the slice syntax. In simple words it returns the a slice of a string\n",
    "\n",
    "Specify the start index and the end index, separated by a colon, to return a part of the string."
   ]
  },
  {
   "cell_type": "code",
   "execution_count": 5,
   "metadata": {},
   "outputs": [
    {
     "name": "stdout",
     "output_type": "stream",
     "text": [
      "high level programming language\n"
     ]
    }
   ],
   "source": [
    "# printing a part of string from index 12 to end\n",
    "mystring=\"Python is a high level programming language\"\n",
    "print(mystring[12:]) "
   ]
  },
  {
   "cell_type": "code",
   "execution_count": 8,
   "metadata": {},
   "outputs": [
    {
     "name": "stdout",
     "output_type": "stream",
     "text": [
      "high\n"
     ]
    }
   ],
   "source": [
    "# printing a part of string from index 12 to 15\n",
    "mystring=\"Python is a high level programming language\"\n",
    "print(mystring[12:16]) #16th index is not included"
   ]
  },
  {
   "cell_type": "code",
   "execution_count": 10,
   "metadata": {},
   "outputs": [
    {
     "name": "stdout",
     "output_type": "stream",
     "text": [
      "HloWrd\n"
     ]
    }
   ],
   "source": [
    "# printing the string with step size 2\n",
    "my_string =\"Hello World!\"\n",
    "print(my_string[::2]) # print the string from the starting to end with a step size of 2"
   ]
  },
  {
   "cell_type": "code",
   "execution_count": 13,
   "metadata": {},
   "outputs": [
    {
     "name": "stdout",
     "output_type": "stream",
     "text": [
      "!dlroW olleH\n"
     ]
    }
   ],
   "source": [
    "# printing the string in from ending to starting\n",
    "my_string =\"Hello World!\"\n",
    "print(my_string[-1::-1]) # step size -1 will reduce the index by 1"
   ]
  },
  {
   "cell_type": "markdown",
   "metadata": {},
   "source": [
    "## Membership operators"
   ]
  },
  {
   "cell_type": "markdown",
   "metadata": {},
   "source": [
    "Membership operators are used to test if a sequence is presented in an object"
   ]
  },
  {
   "cell_type": "markdown",
   "metadata": {},
   "source": [
    "### in operator"
   ]
  },
  {
   "cell_type": "markdown",
   "metadata": {},
   "source": [
    "Returns <b>True</b> if a sequence with the specified value is present in the object else returns <b>False</b>"
   ]
  },
  {
   "cell_type": "code",
   "execution_count": 14,
   "metadata": {},
   "outputs": [
    {
     "name": "stdout",
     "output_type": "stream",
     "text": [
      "False\n"
     ]
    }
   ],
   "source": [
    "# checking whether the a string named \"Java\" is there in a string or not\n",
    "mystr=\"Welcome to Python Bootcamp\"\n",
    "print(\"Java\" in mystr)"
   ]
  },
  {
   "cell_type": "markdown",
   "metadata": {},
   "source": [
    "### not in operator"
   ]
  },
  {
   "cell_type": "markdown",
   "metadata": {},
   "source": [
    "Returns <b>True</b> if a sequence with the specified value is not present in the object else returns <b>False</b>"
   ]
  },
  {
   "cell_type": "code",
   "execution_count": 16,
   "metadata": {},
   "outputs": [
    {
     "name": "stdout",
     "output_type": "stream",
     "text": [
      "True\n"
     ]
    }
   ],
   "source": [
    "mystr=\"Welcome to Python Bootcamp\"\n",
    "print(\"Java\" not in mystr) # as \"Java is not in mystr, it returns True\""
   ]
  },
  {
   "cell_type": "markdown",
   "metadata": {},
   "source": [
    "### string index method"
   ]
  },
  {
   "cell_type": "markdown",
   "metadata": {},
   "source": [
    "index() function method returns the position at the first occurrence of the specified value.\n",
    "\n",
    "syntax: stringname.index(value)"
   ]
  },
  {
   "cell_type": "code",
   "execution_count": 22,
   "metadata": {},
   "outputs": [
    {
     "name": "stdout",
     "output_type": "stream",
     "text": [
      "The 'W' is at index 4\n"
     ]
    }
   ],
   "source": [
    "# finding the index of one charecter in a string\n",
    "mystr=\"Hi, Welcome!\"\n",
    "ind=mystr.index(\"W\")\n",
    "print(\"The 'W' is at index\",ind)"
   ]
  },
  {
   "cell_type": "code",
   "execution_count": 23,
   "metadata": {},
   "outputs": [
    {
     "name": "stdout",
     "output_type": "stream",
     "text": [
      "The 'Welcome' is at index 4\n"
     ]
    }
   ],
   "source": [
    "# If a string is given as an argument to the index() then it returns the index of first element of that string in the main string\n",
    "mystr=\"Hi, Welcome!\"\n",
    "ind=mystr.index(\"Welcome\")\n",
    "print(\"The 'Welcome' is at index\",ind)"
   ]
  },
  {
   "cell_type": "code",
   "execution_count": 24,
   "metadata": {},
   "outputs": [
    {
     "name": "stdout",
     "output_type": "stream",
     "text": [
      "The 'b' is at index 1\n"
     ]
    }
   ],
   "source": [
    "# If the charecter is appeared more than one time in a string then it returns the index of first occurence\n",
    "mystr=\"abcd abcd\"\n",
    "ind=mystr.index(\"b\")\n",
    "print(\"The 'b' is at index\",ind)"
   ]
  },
  {
   "cell_type": "markdown",
   "metadata": {},
   "source": [
    "### count method in string"
   ]
  },
  {
   "cell_type": "code",
   "execution_count": 26,
   "metadata": {},
   "outputs": [
    {
     "name": "stdout",
     "output_type": "stream",
     "text": [
      "2\n"
     ]
    }
   ],
   "source": [
    "# count method returns the number of times the particular element appeared in the string\n",
    "mystring=\"Instagram is created using Python\"\n",
    "freq=mystring.count('i')\n",
    "print(freq) #printed 2 as output because 'i' appeared twice in the variable mystring"
   ]
  },
  {
   "cell_type": "markdown",
   "metadata": {},
   "source": [
    "### replace method in strings"
   ]
  },
  {
   "cell_type": "code",
   "execution_count": 27,
   "metadata": {},
   "outputs": [
    {
     "name": "stdout",
     "output_type": "stream",
     "text": [
      "The text before replacement is Hello World!\n",
      "The text after replacement is Hello Earth!\n"
     ]
    }
   ],
   "source": [
    "# replaces a particular element in a string and returns a new string\n",
    "txt=\"Hello World!\"\n",
    "new_txt=txt.replace('World','Earth')\n",
    "print(\"The text before replacement is\",txt)\n",
    "print(\"The text after replacement is\",new_txt)"
   ]
  },
  {
   "cell_type": "markdown",
   "metadata": {},
   "source": [
    "# List Data Type"
   ]
  },
  {
   "cell_type": "markdown",
   "metadata": {},
   "source": [
    "Lists are used to store multiple items in a single variable in which all items are enclosed between [ ]"
   ]
  },
  {
   "cell_type": "code",
   "execution_count": 28,
   "metadata": {},
   "outputs": [
    {
     "name": "stdout",
     "output_type": "stream",
     "text": [
      "[1, 2, 3, 4, 5]\n"
     ]
    }
   ],
   "source": [
    "# creating a new list\n",
    "lst=[1,2,3,4,5]\n",
    "print(lst)"
   ]
  },
  {
   "cell_type": "code",
   "execution_count": 30,
   "metadata": {},
   "outputs": [
    {
     "name": "stdout",
     "output_type": "stream",
     "text": [
      "[1, 1.2, (2+3j), 'a']\n"
     ]
    }
   ],
   "source": [
    "# list can store data of multiple data types\n",
    "mylst=[1,1.2,2+3j,'a']\n",
    "print(mylst)"
   ]
  },
  {
   "cell_type": "code",
   "execution_count": 31,
   "metadata": {},
   "outputs": [
    {
     "name": "stdout",
     "output_type": "stream",
     "text": [
      "<class 'list'>\n"
     ]
    }
   ],
   "source": [
    "# type method is used to find the type of the data type\n",
    "print(type(mylst))"
   ]
  },
  {
   "cell_type": "code",
   "execution_count": 32,
   "metadata": {},
   "outputs": [
    {
     "name": "stdout",
     "output_type": "stream",
     "text": [
      "5\n"
     ]
    }
   ],
   "source": [
    "# len() method returns the length of an list\n",
    "mylst=[1,2,3,4,5]\n",
    "len_mylst=len(mylst)\n",
    "print(len_mylst)"
   ]
  },
  {
   "cell_type": "markdown",
   "metadata": {},
   "source": [
    "### indexing in list"
   ]
  },
  {
   "cell_type": "code",
   "execution_count": 33,
   "metadata": {},
   "outputs": [
    {
     "name": "stdout",
     "output_type": "stream",
     "text": [
      "c\n"
     ]
    }
   ],
   "source": [
    "# accessing the elements using it's index in the list\n",
    "lst=['a','b','c','d']\n",
    "print(lst[2])"
   ]
  },
  {
   "cell_type": "code",
   "execution_count": 34,
   "metadata": {},
   "outputs": [
    {
     "name": "stdout",
     "output_type": "stream",
     "text": [
      "d\n"
     ]
    }
   ],
   "source": [
    "# accessing the last element in the list\n",
    "lst=['a','b','c','d']\n",
    "print(lst[-1])"
   ]
  },
  {
   "cell_type": "markdown",
   "metadata": {},
   "source": [
    "### slicing in list"
   ]
  },
  {
   "cell_type": "code",
   "execution_count": 35,
   "metadata": {},
   "outputs": [
    {
     "name": "stdout",
     "output_type": "stream",
     "text": [
      "[4, 5, 6, 7, 8, 10]\n"
     ]
    }
   ],
   "source": [
    "# printing the lst from index 2 to 8\n",
    "lst=[2,3,4,5,6,7,8,10]\n",
    "print(lst[2:8])"
   ]
  },
  {
   "cell_type": "code",
   "execution_count": 36,
   "metadata": {},
   "outputs": [
    {
     "name": "stdout",
     "output_type": "stream",
     "text": [
      "[10, 8, 7, 6, 5, 4, 3, 2]\n"
     ]
    }
   ],
   "source": [
    "# reversing the list using step size -1\n",
    "lst=[2,3,4,5,6,7,8,10]\n",
    "print(lst[::-1])"
   ]
  },
  {
   "cell_type": "markdown",
   "metadata": {},
   "source": [
    "## sum() method in list"
   ]
  },
  {
   "cell_type": "markdown",
   "metadata": {},
   "source": [
    "sum() method return the sum of all numeric elements in the list"
   ]
  },
  {
   "cell_type": "code",
   "execution_count": 39,
   "metadata": {},
   "outputs": [
    {
     "name": "stdout",
     "output_type": "stream",
     "text": [
      "19\n"
     ]
    }
   ],
   "source": [
    "lst=[1,3,4,5,6]\n",
    "sum_lst=sum(lst)\n",
    "print(sum_lst)"
   ]
  },
  {
   "cell_type": "markdown",
   "metadata": {},
   "source": [
    "### append() method in list"
   ]
  },
  {
   "cell_type": "markdown",
   "metadata": {},
   "source": [
    "append() method adds items to the end of the list"
   ]
  },
  {
   "cell_type": "code",
   "execution_count": 42,
   "metadata": {},
   "outputs": [
    {
     "name": "stdout",
     "output_type": "stream",
     "text": [
      "[1, 2, 3, 4, 5, 6, 7]\n"
     ]
    }
   ],
   "source": [
    "lst=[1,2,3,4,5,6]\n",
    "lst.append(7)\n",
    "print(lst)"
   ]
  },
  {
   "cell_type": "markdown",
   "metadata": {},
   "source": [
    "### pop() method in list"
   ]
  },
  {
   "cell_type": "markdown",
   "metadata": {},
   "source": [
    "pop() method removes the list item at particular index\n",
    "\n",
    "If, no index is given as argument then it takes -1 as default argument and deletes the last element from the list"
   ]
  },
  {
   "cell_type": "code",
   "execution_count": 44,
   "metadata": {},
   "outputs": [
    {
     "name": "stdout",
     "output_type": "stream",
     "text": [
      "[3, 5, 7, 9, 1, 4]\n"
     ]
    }
   ],
   "source": [
    "# deleting the last element from the list\n",
    "mylst=[3,5,7,9,1,4,3]\n",
    "mylst.pop()\n",
    "print(mylst)"
   ]
  },
  {
   "cell_type": "code",
   "execution_count": 45,
   "metadata": {},
   "outputs": [
    {
     "name": "stdout",
     "output_type": "stream",
     "text": [
      "[3, 7, 9, 1, 4, 3]\n"
     ]
    }
   ],
   "source": [
    "# deleting the element at particular index from the list\n",
    "mylst=[3,5,7,9,1,4,3]\n",
    "mylst.pop(1)\n",
    "print(mylst)"
   ]
  },
  {
   "cell_type": "markdown",
   "metadata": {},
   "source": [
    "### sort() method"
   ]
  },
  {
   "cell_type": "markdown",
   "metadata": {},
   "source": [
    "The sort() method sorts the list ascending by default."
   ]
  },
  {
   "cell_type": "code",
   "execution_count": 63,
   "metadata": {},
   "outputs": [
    {
     "name": "stdout",
     "output_type": "stream",
     "text": [
      "[5, 7, 32, 32, 42, 51, 67, 90]\n"
     ]
    }
   ],
   "source": [
    "# sorting the list in acsending order\n",
    "mylist=[51,42,7,5,32,67,90,32]\n",
    "mylist.sort()\n",
    "print(mylist)"
   ]
  },
  {
   "cell_type": "code",
   "execution_count": 64,
   "metadata": {},
   "outputs": [
    {
     "name": "stdout",
     "output_type": "stream",
     "text": [
      "[90, 67, 51, 42, 32, 32, 7, 5]\n"
     ]
    }
   ],
   "source": [
    "# soring the list in descending order\n",
    "mylist=[51,42,7,5,32,67,90,32]\n",
    "mylist.sort(reverse=True) # adding reverse = True argument sorts the list in descending order\n",
    "print(mylist)"
   ]
  },
  {
   "cell_type": "markdown",
   "metadata": {},
   "source": [
    "# Tuple Data Type"
   ]
  },
  {
   "cell_type": "code",
   "execution_count": 46,
   "metadata": {},
   "outputs": [
    {
     "name": "stdout",
     "output_type": "stream",
     "text": [
      "(1, 2, 3, 4)\n"
     ]
    }
   ],
   "source": [
    "# storing data inside tuple\n",
    "mytuple=(1,2,3,4)\n",
    "print(mytuple)"
   ]
  },
  {
   "cell_type": "code",
   "execution_count": 47,
   "metadata": {},
   "outputs": [
    {
     "name": "stdout",
     "output_type": "stream",
     "text": [
      "<class 'tuple'>\n"
     ]
    }
   ],
   "source": [
    "# printing the type of mytuple using type() method\n",
    "print(type(mytuple))"
   ]
  },
  {
   "cell_type": "code",
   "execution_count": 48,
   "metadata": {},
   "outputs": [
    {
     "name": "stdout",
     "output_type": "stream",
     "text": [
      "4\n"
     ]
    }
   ],
   "source": [
    "# printing the length of tuple using len()\n",
    "mytuple=(1,2,3,4)\n",
    "print(len(mytuple))"
   ]
  },
  {
   "cell_type": "code",
   "execution_count": 49,
   "metadata": {},
   "outputs": [
    {
     "name": "stdout",
     "output_type": "stream",
     "text": [
      "(2,)\n"
     ]
    }
   ],
   "source": [
    "# storing one element in a tuple\n",
    "mytup=(2,)\n",
    "print(mytup)"
   ]
  },
  {
   "cell_type": "markdown",
   "metadata": {},
   "source": [
    "### indexing in tuple"
   ]
  },
  {
   "cell_type": "code",
   "execution_count": 50,
   "metadata": {},
   "outputs": [
    {
     "name": "stdout",
     "output_type": "stream",
     "text": [
      "c\n"
     ]
    }
   ],
   "source": [
    "# accessing elements of a tuple by it's index\n",
    "mytuple=('a','b','c','d')\n",
    "print(mytuple[2])"
   ]
  },
  {
   "cell_type": "code",
   "execution_count": 51,
   "metadata": {},
   "outputs": [
    {
     "name": "stdout",
     "output_type": "stream",
     "text": [
      "d\n"
     ]
    }
   ],
   "source": [
    "# accessing the last element of a tuple\n",
    "mytuple=('a','b','c','d')\n",
    "print(mytuple[-1])"
   ]
  },
  {
   "cell_type": "markdown",
   "metadata": {},
   "source": [
    "### slicing in tuple"
   ]
  },
  {
   "cell_type": "code",
   "execution_count": 52,
   "metadata": {},
   "outputs": [
    {
     "name": "stdout",
     "output_type": "stream",
     "text": [
      "(4, 5, 6, 7, 8, 10)\n"
     ]
    }
   ],
   "source": [
    "# printing the tuple from index 2 to 8\n",
    "mytuple=(2,3,4,5,6,7,8,10)\n",
    "print(mytuple[2:8])"
   ]
  },
  {
   "cell_type": "code",
   "execution_count": 53,
   "metadata": {},
   "outputs": [
    {
     "name": "stdout",
     "output_type": "stream",
     "text": [
      "(10, 8, 7, 6, 5, 4, 3, 2)\n"
     ]
    }
   ],
   "source": [
    "# reversing the tuple\n",
    "mytuple=(2,3,4,5,6,7,8,10)\n",
    "print(mytuple[::-1])"
   ]
  },
  {
   "cell_type": "markdown",
   "metadata": {},
   "source": [
    "### sum() method in tuple"
   ]
  },
  {
   "cell_type": "code",
   "execution_count": 54,
   "metadata": {},
   "outputs": [
    {
     "name": "stdout",
     "output_type": "stream",
     "text": [
      "15\n"
     ]
    }
   ],
   "source": [
    "# returns the sum of all numeric items in a tuple\n",
    "mytuple=(1,2,3,4,5)\n",
    "print(sum(mytuple))"
   ]
  },
  {
   "cell_type": "markdown",
   "metadata": {},
   "source": [
    "### count() method in tuple"
   ]
  },
  {
   "cell_type": "code",
   "execution_count": 55,
   "metadata": {},
   "outputs": [
    {
     "name": "stdout",
     "output_type": "stream",
     "text": [
      "2\n"
     ]
    }
   ],
   "source": [
    "# count() method returns the number of occurences of a particular item in tuple\n",
    "newtuple=(1,2,3,1,2,4,6,2,53,3)\n",
    "tuple_count=newtuple.count(1)\n",
    "print(tuple_count)"
   ]
  },
  {
   "cell_type": "markdown",
   "metadata": {},
   "source": [
    "### index() method in tuple"
   ]
  },
  {
   "cell_type": "code",
   "execution_count": 56,
   "metadata": {},
   "outputs": [
    {
     "name": "stdout",
     "output_type": "stream",
     "text": [
      "2\n"
     ]
    }
   ],
   "source": [
    "# index() method returns the index of first occurence of a particular item in tuple\n",
    "newtuple=(1,2,3,1,2,4,6,2,53,3)\n",
    "ind=newtuple.index(3)\n",
    "print(ind)"
   ]
  },
  {
   "cell_type": "markdown",
   "metadata": {},
   "source": [
    "# Boolean Data Type"
   ]
  },
  {
   "cell_type": "markdown",
   "metadata": {},
   "source": [
    "Booleans represent one of two values: True or False."
   ]
  },
  {
   "cell_type": "code",
   "execution_count": 57,
   "metadata": {},
   "outputs": [
    {
     "name": "stdout",
     "output_type": "stream",
     "text": [
      "True\n",
      "<class 'bool'>\n"
     ]
    }
   ],
   "source": [
    "# checking whether the condition is True or False\n",
    "condition =5>2\n",
    "print(condition)\n",
    "print(type(condition))"
   ]
  },
  {
   "cell_type": "code",
   "execution_count": 59,
   "metadata": {},
   "outputs": [
    {
     "name": "stdout",
     "output_type": "stream",
     "text": [
      "False\n",
      "True\n"
     ]
    }
   ],
   "source": [
    "# checking for sub string in main string using membership operators\n",
    "print(\"Java\" in \"Python Bootcamp\")\n",
    "print(\"Python\" in \"Python Bootcamp\")"
   ]
  },
  {
   "cell_type": "markdown",
   "metadata": {},
   "source": [
    "# Set Data Type"
   ]
  },
  {
   "cell_type": "markdown",
   "metadata": {},
   "source": [
    "A Set is an unordered collection data type that is iterable, mutable and has no duplicate elements. \n",
    "\n",
    "Python’s set class represents the mathematical notion of a set. \n",
    "\n",
    "The major advantage of using a set, as opposed to a list, is that it has a highly optimized method for checking whether a specific element is contained in the set. "
   ]
  },
  {
   "cell_type": "code",
   "execution_count": 60,
   "metadata": {},
   "outputs": [
    {
     "name": "stdout",
     "output_type": "stream",
     "text": [
      "{1, 2, 3, 4, 5, 6, 7, 8}\n"
     ]
    }
   ],
   "source": [
    "# storing elements in the set \n",
    "myset={1,2,3,4,5,6,7,8}\n",
    "print(myset)"
   ]
  },
  {
   "cell_type": "code",
   "execution_count": 61,
   "metadata": {},
   "outputs": [
    {
     "name": "stdout",
     "output_type": "stream",
     "text": [
      "<class 'type'>\n"
     ]
    }
   ],
   "source": [
    "# checking the type of set\n",
    "print(type(set))"
   ]
  },
  {
   "cell_type": "code",
   "execution_count": 68,
   "metadata": {},
   "outputs": [
    {
     "name": "stdout",
     "output_type": "stream",
     "text": [
      "{1, 2, 3, 4, 5, 6, 7, 8}\n"
     ]
    }
   ],
   "source": [
    "# duplicates are not allowed\n",
    "myset={1,3,2,4,3,5,4,5,6,7,8}\n",
    "print(myset)"
   ]
  },
  {
   "cell_type": "markdown",
   "metadata": {},
   "source": [
    "## Operations on sets"
   ]
  },
  {
   "attachments": {
    "sets.JPG": {
     "image/jpeg": "[encoded data removed]"
    }
   },
   "cell_type": "markdown",
   "metadata": {},
   "source": [
    "![sets.JPG](attachment:sets.JPG)"
   ]
  },
  {
   "cell_type": "markdown",
   "metadata": {},
   "source": [
    "## Union of two sets"
   ]
  },
  {
   "cell_type": "markdown",
   "metadata": {},
   "source": [
    "union of two sets returns the set of elements of two sets"
   ]
  },
  {
   "cell_type": "code",
   "execution_count": 66,
   "metadata": {},
   "outputs": [
    {
     "name": "stdout",
     "output_type": "stream",
     "text": [
      "{1, 2, 3, 4, 6, 8}\n"
     ]
    }
   ],
   "source": [
    "set_a={1,2,3,4}\n",
    "set_b={2,4,6,8}\n",
    "a_union_b=set_a.union(set_b)\n",
    "print(a_union_b)"
   ]
  },
  {
   "cell_type": "markdown",
   "metadata": {},
   "source": [
    "## Intersection of two sets"
   ]
  },
  {
   "cell_type": "markdown",
   "metadata": {},
   "source": [
    "returns the common elements between two sets"
   ]
  },
  {
   "cell_type": "code",
   "execution_count": 69,
   "metadata": {},
   "outputs": [
    {
     "name": "stdout",
     "output_type": "stream",
     "text": [
      "{2, 4}\n"
     ]
    }
   ],
   "source": [
    "set_a={1,2,3,4}\n",
    "set_b={2,4,6,8}\n",
    "a_intersection_b=set_a.intersection(set_b)\n",
    "print(a_intersection_b)"
   ]
  },
  {
   "cell_type": "markdown",
   "metadata": {},
   "source": [
    "## Difference of two sets"
   ]
  },
  {
   "cell_type": "markdown",
   "metadata": {},
   "source": [
    " set_a - set_b returns the elements which are unique in only set_a"
   ]
  },
  {
   "cell_type": "code",
   "execution_count": 70,
   "metadata": {},
   "outputs": [
    {
     "name": "stdout",
     "output_type": "stream",
     "text": [
      "{1, 3}\n"
     ]
    }
   ],
   "source": [
    "set_a={1,2,3,4}\n",
    "set_b={2,4,6,8}\n",
    "diff=set_a-set_b\n",
    "print(diff)"
   ]
  },
  {
   "cell_type": "markdown",
   "metadata": {},
   "source": [
    " set_b - set_a returns the elements which are unique in only set_b"
   ]
  },
  {
   "cell_type": "code",
   "execution_count": 72,
   "metadata": {},
   "outputs": [
    {
     "name": "stdout",
     "output_type": "stream",
     "text": [
      "{8, 6}\n"
     ]
    }
   ],
   "source": [
    "set_a={1,2,3,4}\n",
    "set_b={2,4,6,8}\n",
    "diff=set_b-set_a\n",
    "print(diff)"
   ]
  },
  {
   "cell_type": "markdown",
   "metadata": {},
   "source": [
    "## symmetric difference between two sets"
   ]
  },
  {
   "cell_type": "markdown",
   "metadata": {},
   "source": [
    "symmetric difference is the set of non- common elements in both sets\n",
    "\n",
    "A Δ B = A U B - A ∩ B"
   ]
  },
  {
   "cell_type": "code",
   "execution_count": 73,
   "metadata": {},
   "outputs": [
    {
     "name": "stdout",
     "output_type": "stream",
     "text": [
      "{1, 3, 6, 8}\n"
     ]
    }
   ],
   "source": [
    "set_a={1,2,3,4}\n",
    "set_b={2,4,6,8}\n",
    "sym_diff=set_a.symmetric_difference(set_b)\n",
    "print(sym_diff)"
   ]
  },
  {
   "cell_type": "markdown",
   "metadata": {},
   "source": [
    "# Dictionary Data Type"
   ]
  },
  {
   "cell_type": "markdown",
   "metadata": {},
   "source": [
    "dictionary is a data type used to store data in the form of key value pair"
   ]
  },
  {
   "cell_type": "code",
   "execution_count": 75,
   "metadata": {},
   "outputs": [],
   "source": [
    "# storing the data of car in dictionary\n",
    "car={\"wheel\":4,\"mileage\":100,\"cost\":\"10 L\"}"
   ]
  },
  {
   "cell_type": "code",
   "execution_count": 78,
   "metadata": {},
   "outputs": [
    {
     "name": "stdout",
     "output_type": "stream",
     "text": [
      "4\n",
      "100\n",
      "10 L\n"
     ]
    }
   ],
   "source": [
    "# accessing the elements from the dictionary\n",
    "print(car['wheel'])\n",
    "print(car['mileage'])\n",
    "print(car['cost'])"
   ]
  },
  {
   "cell_type": "code",
   "execution_count": 81,
   "metadata": {},
   "outputs": [
    {
     "name": "stdout",
     "output_type": "stream",
     "text": [
      "<class 'dict'>\n"
     ]
    }
   ],
   "source": [
    "# printing the type of car \n",
    "print(type(car))"
   ]
  },
  {
   "cell_type": "code",
   "execution_count": 80,
   "metadata": {},
   "outputs": [
    {
     "name": "stdout",
     "output_type": "stream",
     "text": [
      "{'wheel': 4, 'mileage': 20, 'cost': '10 L'}\n"
     ]
    }
   ],
   "source": [
    "# updating the data in dictionary using item assignement\n",
    "car['mileage']=20\n",
    "print(car)"
   ]
  },
  {
   "cell_type": "markdown",
   "metadata": {},
   "source": [
    "### Update() method"
   ]
  },
  {
   "cell_type": "code",
   "execution_count": 83,
   "metadata": {},
   "outputs": [
    {
     "name": "stdout",
     "output_type": "stream",
     "text": [
      "{'wheel': 4, 'mileage': 20, 'cost': '10 L', 'color': 'white'}\n"
     ]
    }
   ],
   "source": [
    "# updating the data in a dictionary using update method\n",
    "car.update({'color':'white'}) #takes key value pair as argument\n",
    "print(car)"
   ]
  },
  {
   "cell_type": "markdown",
   "metadata": {},
   "source": [
    "### .keys() method"
   ]
  },
  {
   "cell_type": "markdown",
   "metadata": {},
   "source": [
    "return all the keys in the particular dictionary"
   ]
  },
  {
   "cell_type": "code",
   "execution_count": 85,
   "metadata": {},
   "outputs": [
    {
     "name": "stdout",
     "output_type": "stream",
     "text": [
      "dict_keys(['wheel', 'mileage', 'cost', 'color'])\n"
     ]
    }
   ],
   "source": [
    "print(car.keys())"
   ]
  },
  {
   "cell_type": "markdown",
   "metadata": {},
   "source": [
    "### .values() method"
   ]
  },
  {
   "cell_type": "markdown",
   "metadata": {},
   "source": [
    "return all the values in the particular dictionary"
   ]
  },
  {
   "cell_type": "code",
   "execution_count": 86,
   "metadata": {},
   "outputs": [
    {
     "name": "stdout",
     "output_type": "stream",
     "text": [
      "dict_values([4, 20, '10 L', 'white'])\n"
     ]
    }
   ],
   "source": [
    "print(car.values())"
   ]
  },
  {
   "cell_type": "markdown",
   "metadata": {},
   "source": [
    "### .pop() method"
   ]
  },
  {
   "cell_type": "markdown",
   "metadata": {},
   "source": [
    "removes the item with a particular key name"
   ]
  },
  {
   "cell_type": "code",
   "execution_count": 87,
   "metadata": {},
   "outputs": [
    {
     "data": {
      "text/plain": [
       "'white'"
      ]
     },
     "execution_count": 87,
     "metadata": {},
     "output_type": "execute_result"
    }
   ],
   "source": [
    "car.pop('color')"
   ]
  },
  {
   "cell_type": "code",
   "execution_count": 88,
   "metadata": {},
   "outputs": [
    {
     "name": "stdout",
     "output_type": "stream",
     "text": [
      "{'wheel': 4, 'mileage': 20, 'cost': '10 L'}\n"
     ]
    }
   ],
   "source": [
    "print(car)"
   ]
  },
  {
   "cell_type": "code",
   "execution_count": null,
   "metadata": {},
   "outputs": [],
   "source": []
  }
 ],
 "metadata": {
  "kernelspec": {
   "display_name": "Python 3",
   "language": "python",
   "name": "python3"
  },
  "language_info": {
   "codemirror_mode": {
    "name": "ipython",
    "version": 3
   },
   "file_extension": ".py",
   "mimetype": "text/x-python",
   "name": "python",
   "nbconvert_exporter": "python",
   "pygments_lexer": "ipython3",
   "version": "3.7.3"
  }
 },
 "nbformat": 4,
 "nbformat_minor": 2
}
